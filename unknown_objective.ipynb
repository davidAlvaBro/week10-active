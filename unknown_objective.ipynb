{
  "nbformat": 4,
  "nbformat_minor": 0,
  "metadata": {
    "kernelspec": {
      "display_name": "Python 3",
      "language": "python",
      "name": "python3"
    },
    "language_info": {
      "codemirror_mode": {
        "name": "ipython",
        "version": 3
      },
      "file_extension": ".py",
      "mimetype": "text/x-python",
      "name": "python",
      "nbconvert_exporter": "python",
      "pygments_lexer": "ipython3",
      "version": "3.6.8"
    },
    "colab": {
      "name": "unknown_objective.ipynb",
      "provenance": []
    }
  },
  "cells": [
    {
      "cell_type": "code",
      "metadata": {
        "id": "x7EwCPizfOie",
        "colab_type": "code",
        "colab": {}
      },
      "source": [
        "'''\n",
        "In this file we are creating the unknown objective function.\n",
        "The only things that we need is:\n",
        "- a way to query the function\n",
        "- a way to plot the function at the end\n",
        "'''\n",
        "import numpy as np\n",
        "import matplotlib.pyplot as plt\n",
        "\n",
        "np.random.seed(32)\n",
        "# the true function\n",
        "f = lambda x: 2 - 0.75*x +  0.6 * np.sin(5*x) + 0.45 * np.sin(0.5*x) + np.sin(3*x) * np.sin(10*x)  - 0.8 * np.sin(3.5 * x)\n",
        "# we assume NOISY observation\n",
        "true_noise_var = 0.01\n",
        "\n",
        "def query_the_objective(x):\n",
        "    if x < 0. or x > 2.: \n",
        "        print(\"The value you seleceted is not in the range [0,2], you get a None\")\n",
        "        return None\n",
        "    return f(x) + true_noise_var * np.random.randn()\n",
        "\n",
        "def plot_the_unknown_function():\n",
        "    X = np.linspace(0,2,200)\n",
        "    y = f(X) + true_noise_var * np.random.randn(len(X))\n",
        "    xmax_pos = np.argmax(y) \n",
        "    plt.plot(X, y, '-', color= 'red', label=r'true noisy $f(x)$')\n",
        "    plt.plot(X[xmax_pos], y[xmax_pos], 'v', color = 'orange', label='True max')\n",
        "    plt.legend()\n",
        "    plt.show()\n",
        "    \n",
        "    \n",
        "def get_the_true_max():\n",
        "    X = np.linspace(0,2,200)\n",
        "    y = f(X) + true_noise_var * np.random.randn(len(X))\n",
        "    xmax_pos = np.argmax(y)\n",
        "    print(f'The maximum is at x = {X[xmax_pos]}, where f(x)= {y[xmax_pos]}')"
      ],
      "execution_count": 0,
      "outputs": []
    },
    {
      "cell_type": "code",
      "metadata": {
        "id": "pnl3O2Q8fOim",
        "colab_type": "code",
        "colab": {},
        "outputId": "d489f022-5351-4673-ca30-26aedf1831fb"
      },
      "source": [
        "#print(query_the_objective(1.778894472361809))"
      ],
      "execution_count": 0,
      "outputs": [
        {
          "output_type": "stream",
          "text": [
            "2.0690134105026243\n"
          ],
          "name": "stdout"
        }
      ]
    },
    {
      "cell_type": "code",
      "metadata": {
        "id": "uPnhoifEfOit",
        "colab_type": "code",
        "colab": {}
      },
      "source": [
        "#plot_the_unknown_function()"
      ],
      "execution_count": 0,
      "outputs": []
    },
    {
      "cell_type": "code",
      "metadata": {
        "id": "TjzhBtbIfOiy",
        "colab_type": "code",
        "colab": {}
      },
      "source": [
        "#get_the_true_max()"
      ],
      "execution_count": 0,
      "outputs": []
    },
    {
      "cell_type": "code",
      "metadata": {
        "id": "ZOQJkEzMfOi4",
        "colab_type": "code",
        "colab": {}
      },
      "source": [
        ""
      ],
      "execution_count": 0,
      "outputs": []
    }
  ]
}